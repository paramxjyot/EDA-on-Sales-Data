{
 "cells": [
  {
   "cell_type": "code",
   "execution_count": 67,
   "metadata": {},
   "outputs": [
    {
     "name": "stderr",
     "output_type": "stream",
     "text": [
      "c:\\Users\\param\\anaconda3\\lib\\site-packages\\openpyxl\\styles\\stylesheet.py:226: UserWarning: Workbook contains no default style, apply openpyxl's default\n",
      "  warn(\"Workbook contains no default style, apply openpyxl's default\")\n"
     ]
    },
    {
     "name": "stdout",
     "output_type": "stream",
     "text": [
      "(2596, 51)\n"
     ]
    }
   ],
   "source": [
    "#Importing excel file into Dataframe\n",
    "import pandas as pd\n",
    "url = r\"C:\\Users\\param\\Downloads\\638234264281445962.xlsx\"\n",
    "df = pd.read_excel(url)\n",
    "print(df.shape)"
   ]
  },
  {
   "cell_type": "code",
   "execution_count": 68,
   "metadata": {},
   "outputs": [
    {
     "name": "stdout",
     "output_type": "stream",
     "text": [
      "Index(['Shipment ID', 'Order ID', 'Store Name', 'Order Number', 'Order Date',\n",
      "       'Order Total', 'Date Paid', 'Amount Paid', 'Shipping Paid', 'Ship Name',\n",
      "       'Ship Company', 'Ship Street 1', 'Ship Street 2', 'Ship City',\n",
      "       'Ship State', 'Ship Postal Code', 'Ship Country', 'Ship Phone',\n",
      "       'Buyer Email', 'Buyer Notified', 'Buyer User ID',\n",
      "       'Marketplace Notified', 'Ship Date', 'Qty Shipped', 'Warehouse',\n",
      "       'Carrier', 'Carrier Fee', 'Carrier Transaction', 'Shipping Service',\n",
      "       'Tracking Number', 'Label Create Date', 'Label Message', 'Batch ID',\n",
      "       'Label Voided', 'Void Date', 'Weight Oz', 'Weight', 'Package Width',\n",
      "       'Package Height', 'Package Length', 'Package Type', 'Confirmation',\n",
      "       'Insured', 'Insurance Cost', 'Insurance Provider',\n",
      "       'Insurance Transaction', 'Insured Value', 'Insurance Voided',\n",
      "       'TaxAmount', 'Created By', 'Zone'],\n",
      "      dtype='object')\n"
     ]
    }
   ],
   "source": [
    "#Printing column names\n",
    "print(df.columns)"
   ]
  },
  {
   "cell_type": "code",
   "execution_count": 69,
   "metadata": {},
   "outputs": [
    {
     "name": "stdout",
     "output_type": "stream",
     "text": [
      "Shipment ID                 1\n",
      "Order ID                    1\n",
      "Store Name                  1\n",
      "Order Number               32\n",
      "Order Date                  1\n",
      "Order Total                 1\n",
      "Date Paid                  37\n",
      "Amount Paid                 1\n",
      "Shipping Paid               1\n",
      "Ship Name                   8\n",
      "Ship Company             2518\n",
      "Ship Street 1               1\n",
      "Ship Street 2            2519\n",
      "Ship City                   1\n",
      "Ship State                  3\n",
      "Ship Postal Code            1\n",
      "Ship Country                1\n",
      "Ship Phone                 12\n",
      "Buyer Email                41\n",
      "Buyer Notified              1\n",
      "Buyer User ID              32\n",
      "Marketplace Notified        1\n",
      "Ship Date                   1\n",
      "Qty Shipped                 1\n",
      "Warehouse                   1\n",
      "Carrier                     1\n",
      "Carrier Fee                 1\n",
      "Carrier Transaction         1\n",
      "Shipping Service            1\n",
      "Tracking Number             1\n",
      "Label Create Date           1\n",
      "Label Message            2596\n",
      "Batch ID                    1\n",
      "Label Voided                1\n",
      "Void Date                2596\n",
      "Weight Oz                   1\n",
      "Weight                      1\n",
      "Package Width               1\n",
      "Package Height              1\n",
      "Package Length              1\n",
      "Package Type                1\n",
      "Confirmation                1\n",
      "Insured                     1\n",
      "Insurance Cost           2596\n",
      "Insurance Provider       2596\n",
      "Insurance Transaction    2596\n",
      "Insured Value               1\n",
      "Insurance Voided            1\n",
      "TaxAmount                   1\n",
      "Created By                  1\n",
      "Zone                       11\n",
      "dtype: int64\n"
     ]
    }
   ],
   "source": [
    "#Determining the number of null values for each column \n",
    "print(df.isna().sum())"
   ]
  },
  {
   "cell_type": "code",
   "execution_count": 70,
   "metadata": {},
   "outputs": [
    {
     "name": "stdout",
     "output_type": "stream",
     "text": [
      "(2596, 44)\n"
     ]
    }
   ],
   "source": [
    "#Deleting unwanted columns \n",
    "df.drop('Ship Company',axis = 1 , inplace  = True)\n",
    "df.drop('Ship Street 2',axis = 1 , inplace = True)\n",
    "df.drop('Label Message',axis = 1 , inplace  = True)\n",
    "df.drop('Void Date',axis = 1 , inplace = True)\n",
    "df.drop('Insurance Cost',axis = 1 , inplace  = True)\n",
    "df.drop('Insurance Provider',axis = 1 , inplace = True)\n",
    "df.drop('Insurance Transaction',axis = 1 , inplace = True)\n",
    "\n",
    "print(df.shape)"
   ]
  },
  {
   "cell_type": "code",
   "execution_count": 71,
   "metadata": {},
   "outputs": [
    {
     "name": "stdout",
     "output_type": "stream",
     "text": [
      "<class 'pandas.core.frame.DataFrame'>\n",
      "RangeIndex: 2596 entries, 0 to 2595\n",
      "Data columns (total 44 columns):\n",
      " #   Column                Non-Null Count  Dtype         \n",
      "---  ------                --------------  -----         \n",
      " 0   Shipment ID           2595 non-null   float64       \n",
      " 1   Order ID              2595 non-null   float64       \n",
      " 2   Store Name            2595 non-null   object        \n",
      " 3   Order Number          2564 non-null   object        \n",
      " 4   Order Date            2595 non-null   datetime64[ns]\n",
      " 5   Order Total           2595 non-null   float64       \n",
      " 6   Date Paid             2559 non-null   datetime64[ns]\n",
      " 7   Amount Paid           2595 non-null   float64       \n",
      " 8   Shipping Paid         2595 non-null   float64       \n",
      " 9   Ship Name             2588 non-null   object        \n",
      " 10  Ship Street 1         2595 non-null   object        \n",
      " 11  Ship City             2595 non-null   object        \n",
      " 12  Ship State            2593 non-null   object        \n",
      " 13  Ship Postal Code      2595 non-null   object        \n",
      " 14  Ship Country          2595 non-null   object        \n",
      " 15  Ship Phone            2584 non-null   object        \n",
      " 16  Buyer Email           2555 non-null   object        \n",
      " 17  Buyer Notified        2595 non-null   float64       \n",
      " 18  Buyer User ID         2564 non-null   object        \n",
      " 19  Marketplace Notified  2595 non-null   float64       \n",
      " 20  Ship Date             2595 non-null   datetime64[ns]\n",
      " 21  Qty Shipped           2595 non-null   float64       \n",
      " 22  Warehouse             2595 non-null   object        \n",
      " 23  Carrier               2595 non-null   object        \n",
      " 24  Carrier Fee           2595 non-null   float64       \n",
      " 25  Carrier Transaction   2595 non-null   object        \n",
      " 26  Shipping Service      2595 non-null   object        \n",
      " 27  Tracking Number       2595 non-null   object        \n",
      " 28  Label Create Date     2595 non-null   datetime64[ns]\n",
      " 29  Batch ID              2595 non-null   float64       \n",
      " 30  Label Voided          2595 non-null   float64       \n",
      " 31  Weight Oz             2595 non-null   float64       \n",
      " 32  Weight                2595 non-null   float64       \n",
      " 33  Package Width         2595 non-null   float64       \n",
      " 34  Package Height        2595 non-null   float64       \n",
      " 35  Package Length        2595 non-null   float64       \n",
      " 36  Package Type          2595 non-null   object        \n",
      " 37  Confirmation          2595 non-null   float64       \n",
      " 38  Insured               2595 non-null   float64       \n",
      " 39  Insured Value         2595 non-null   float64       \n",
      " 40  Insurance Voided      2595 non-null   float64       \n",
      " 41  TaxAmount             2595 non-null   float64       \n",
      " 42  Created By            2595 non-null   object        \n",
      " 43  Zone                  2585 non-null   float64       \n",
      "dtypes: datetime64[ns](4), float64(22), object(18)\n",
      "memory usage: 892.5+ KB\n",
      "None\n"
     ]
    }
   ],
   "source": [
    "print(df.info())"
   ]
  },
  {
   "cell_type": "code",
   "execution_count": 72,
   "metadata": {},
   "outputs": [
    {
     "name": "stdout",
     "output_type": "stream",
     "text": [
      "709.89\n",
      "0.0\n",
      "99.00274759152217\n"
     ]
    }
   ],
   "source": [
    "#\n",
    "print(df['Order Total'].max())\n",
    "print(df['Order Total'].min())\n",
    "print(df['Order Total'].mean())"
   ]
  },
  {
   "cell_type": "code",
   "execution_count": 73,
   "metadata": {},
   "outputs": [
    {
     "name": "stdout",
     "output_type": "stream",
     "text": [
      "REDACTED (Amazon)\n"
     ]
    }
   ],
   "source": [
    "#Most frequently used Ship Name \n",
    "print(df['Ship Name'].mode()[0])"
   ]
  },
  {
   "cell_type": "code",
   "execution_count": 74,
   "metadata": {},
   "outputs": [
    {
     "data": {
      "image/png": "[encoded data removed]",
      "text/plain": [
       "<Figure size 1000x600 with 1 Axes>"
      ]
     },
     "metadata": {},
     "output_type": "display_data"
    }
   ],
   "source": [
    "#Analyzing Shipping Service Distribution\n",
    "import matplotlib.pyplot as plt\n",
    "service_count = df['Shipping Service'].value_counts().astype(int)\n",
    "plt.figure(figsize=(10 , 6)) \n",
    "service_count.plot(kind = 'pie',autopct='%1.1f%%')\n",
    "plt.title('Shipping Service Distribution')\n",
    "plt.legend(labels=service_count.index, loc='lower left')\n",
    "plt.show()\n",
    "\n"
   ]
  },
  {
   "cell_type": "code",
   "execution_count": 75,
   "metadata": {},
   "outputs": [
    {
     "name": "stdout",
     "output_type": "stream",
     "text": [
      "[nan 'US' 'CA' 'FR' 'SG' 'BR']\n",
      "[nan 'Manual Orders' 'Genius Litter' 'Rate Browser' 'Alpha Paw Wholesale'\n",
      " 'Alpha Paw Amazon' 'Alpha Paw - Walmart' 'Smiling Paws Pet - Amazon']\n"
     ]
    }
   ],
   "source": [
    "print(df['Ship Country'].unique())\n",
    "print(df['Store Name'].unique())"
   ]
  },
  {
   "cell_type": "code",
   "execution_count": 76,
   "metadata": {},
   "outputs": [
    {
     "name": "stdout",
     "output_type": "stream",
     "text": [
      "Ship Country\n",
      "BR    5.914843e+08\n",
      "CA    4.118888e+09\n",
      "FR    5.857519e+08\n",
      "SG    5.868595e+08\n",
      "US    1.523297e+12\n",
      "Name: Order ID, dtype: float64\n"
     ]
    }
   ],
   "source": [
    "order_counts = df.groupby('Ship Country')['Order ID'].sum().round()\n",
    "print(order_counts)"
   ]
  },
  {
   "cell_type": "code",
   "execution_count": 77,
   "metadata": {},
   "outputs": [
    {
     "name": "stdout",
     "output_type": "stream",
     "text": [
      "Ship State\n",
      "CA              2863.26\n",
      "TX              1806.30\n",
      "FL              1276.25\n",
      "NY              1096.61\n",
      "IL               932.47\n",
      "WA               569.36\n",
      "AZ               558.65\n",
      "NJ               514.74\n",
      "PA               503.51\n",
      "NC               487.94\n",
      "GA               474.46\n",
      "OH               441.12\n",
      "CO               432.75\n",
      "MA               387.54\n",
      "TN               384.54\n",
      "MI               381.92\n",
      "VA               333.83\n",
      "SC               328.08\n",
      "LA               315.34\n",
      "IN               312.28\n",
      "MN               303.48\n",
      "MD               278.12\n",
      "OK               234.32\n",
      "NV               223.95\n",
      "KS               222.27\n",
      "AR               212.55\n",
      "CT               208.88\n",
      "WI               157.44\n",
      "UT               139.37\n",
      "NM               121.55\n",
      "IA               121.47\n",
      "KY               117.85\n",
      "RI                84.66\n",
      "ID                77.49\n",
      "WV                72.07\n",
      "NE                65.49\n",
      "ME                64.26\n",
      "HI                50.14\n",
      "DC                41.91\n",
      "VT                36.29\n",
      "SD                16.52\n",
      "AL                 4.00\n",
      "MO                 1.61\n",
      "QC                 0.00\n",
      "OR                 0.00\n",
      "ON                 0.00\n",
      "NH                 0.00\n",
      "ND                 0.00\n",
      "MT                 0.00\n",
      "MS                 0.00\n",
      "AK                 0.00\n",
      "DE                 0.00\n",
      "Barueri - SP       0.00\n",
      "BC                 0.00\n",
      "AB                 0.00\n",
      "Name: TaxAmount, dtype: float64\n"
     ]
    }
   ],
   "source": [
    "#tax paid by states \n",
    "tax_paid = df.groupby('Ship State')['TaxAmount'].sum().sort_values(ascending=False)\n",
    "print(tax_paid)"
   ]
  },
  {
   "cell_type": "code",
   "execution_count": 78,
   "metadata": {},
   "outputs": [
    {
     "name": "stdout",
     "output_type": "stream",
     "text": [
      "Order Date\n",
      "2023-04-28     18\n",
      "2023-04-29     56\n",
      "2023-04-30     65\n",
      "2023-05-01     82\n",
      "2023-05-02    111\n",
      "2023-05-03     60\n",
      "2023-05-04     74\n",
      "2023-05-05     52\n",
      "2023-05-06     77\n",
      "2023-05-07     62\n",
      "2023-05-08     80\n",
      "2023-05-09     66\n",
      "2023-05-10     55\n",
      "2023-05-11     47\n",
      "2023-05-12     96\n",
      "2023-05-13     77\n",
      "2023-05-14     66\n",
      "2023-05-15    112\n",
      "2023-05-16     70\n",
      "2023-05-17     65\n",
      "2023-05-18     62\n",
      "2023-05-19     64\n",
      "2023-05-20     51\n",
      "2023-05-21     69\n",
      "2023-05-22     99\n",
      "2023-05-23    103\n",
      "2023-05-24      5\n",
      "2023-05-25    200\n",
      "2023-05-26     95\n",
      "2023-05-27     96\n",
      "2023-05-28     75\n",
      "2023-05-29     89\n",
      "2023-05-30    127\n",
      "2023-05-31     69\n",
      "Name: Order ID, dtype: int64\n"
     ]
    }
   ],
   "source": [
    "#Orders placed per day\n",
    "df['Order Date'] = pd.to_datetime(df['Order Date'])\n",
    "df['Order Date'] = df['Order Date'].dt.date\n",
    "orders_placed = df.groupby('Order Date')['Order ID'].count()\n",
    "print(orders_placed)\n"
   ]
  },
  {
   "cell_type": "code",
   "execution_count": 79,
   "metadata": {},
   "outputs": [
    {
     "name": "stdout",
     "output_type": "stream",
     "text": [
      "Ship State  Shipping Service\n",
      "AB          Ground              1\n",
      "AK          FCM                 1\n",
      "            Ground Hm           3\n",
      "            PS                  2\n",
      "AL          FCM                 4\n",
      "                               ..\n",
      "WI          PS                  7\n",
      "WV          FCM                 3\n",
      "            Ground Hm           6\n",
      "            PS                  3\n",
      "            SP PS               1\n",
      "Length: 179, dtype: int64\n"
     ]
    }
   ],
   "source": [
    "#Grouping each state with each shipping service they use individually\n",
    "ship_serv = df.groupby(['Ship State', 'Shipping Service']).size()\n",
    "print(ship_serv)\n"
   ]
  },
  {
   "cell_type": "code",
   "execution_count": 80,
   "metadata": {},
   "outputs": [
    {
     "name": "stdout",
     "output_type": "stream",
     "text": [
      "2595\n",
      "256912.13\n",
      "17256.64\n"
     ]
    }
   ],
   "source": [
    "#Determining the total tax paid on total number of orders \n",
    "print(df['Order ID'].count())\n",
    "print(df['Order Total'].sum())\n",
    "print(df['TaxAmount'].sum())"
   ]
  },
  {
   "cell_type": "code",
   "execution_count": 81,
   "metadata": {},
   "outputs": [
    {
     "name": "stdout",
     "output_type": "stream",
     "text": [
      "Ship Country  Store Name               \n",
      "BR            Rate Browser                    1\n",
      "CA            Manual Orders                   7\n",
      "FR            Manual Orders                   1\n",
      "SG            Manual Orders                   1\n",
      "US            Alpha Paw - Walmart             1\n",
      "              Alpha Paw Amazon               51\n",
      "              Alpha Paw Wholesale            11\n",
      "              Genius Litter                  34\n",
      "              Manual Orders                2457\n",
      "              Rate Browser                   30\n",
      "              Smiling Paws Pet - Amazon       1\n",
      "dtype: int64\n"
     ]
    }
   ],
   "source": [
    "#Determining the store name used by each country \n",
    "store_name1 = df.groupby(['Ship Country','Store Name']).size()\n",
    "print(store_name1)"
   ]
  },
  {
   "cell_type": "code",
   "execution_count": 82,
   "metadata": {},
   "outputs": [
    {
     "name": "stdout",
     "output_type": "stream",
     "text": [
      "Ship State  Store Name      \n",
      "AB          Manual Orders        1\n",
      "AK          Genius Litter        1\n",
      "            Manual Orders        5\n",
      "AL          Alpha Paw Amazon     1\n",
      "            Genius Litter        2\n",
      "                                ..\n",
      "WA          Rate Browser         1\n",
      "WI          Genius Litter        1\n",
      "            Manual Orders       30\n",
      "            Rate Browser         1\n",
      "WV          Manual Orders       13\n",
      "Length: 127, dtype: int64\n"
     ]
    }
   ],
   "source": [
    "#determining the store name used by each state \n",
    "store_name2 = df.groupby(['Ship State' , 'Store Name']).size()\n",
    "print(store_name2)"
   ]
  },
  {
   "cell_type": "code",
   "execution_count": 83,
   "metadata": {},
   "outputs": [
    {
     "name": "stdout",
     "output_type": "stream",
     "text": [
      "FedEx    1930\n",
      "USPS      665\n",
      "Name: Carrier, dtype: int64\n"
     ]
    }
   ],
   "source": [
    "print(df['Carrier'].value_counts())\n"
   ]
  },
  {
   "cell_type": "code",
   "execution_count": 84,
   "metadata": {},
   "outputs": [
    {
     "name": "stdout",
     "output_type": "stream",
     "text": [
      "    Ship State Carrier Carrier Fee               \n",
      "                              mean    min     max\n",
      "0           AB   FedEx   27.570000  27.57   27.57\n",
      "1           AK   FedEx  128.236667  95.87  192.56\n",
      "2           AK    USPS   10.670000   4.44   15.03\n",
      "3           AL   FedEx   17.759722  11.95   36.62\n",
      "4           AL    USPS    9.070000   3.97   11.63\n",
      "..         ...     ...         ...    ...     ...\n",
      "97          WA    USPS    7.636667   3.81   10.11\n",
      "98          WI   FedEx   17.279524  11.90   28.56\n",
      "99          WI    USPS    8.789091   4.31   11.63\n",
      "100         WV   FedEx   17.735714  12.98   30.30\n",
      "101         WV    USPS    8.216667   4.13   12.25\n",
      "\n",
      "[102 rows x 5 columns]\n"
     ]
    }
   ],
   "source": [
    "import pandas as pd\n",
    "\n",
    "result = df.groupby(['Ship State','Carrier']).agg({'Carrier Fee': ['mean', 'min', 'max']})\n",
    "\n",
    "result = result.reset_index()\n",
    "\n",
    "print(result)\n"
   ]
  },
  {
   "cell_type": "code",
   "execution_count": 85,
   "metadata": {},
   "outputs": [
    {
     "name": "stdout",
     "output_type": "stream",
     "text": [
      "0          NaN\n",
      "1       3024.0\n",
      "2       3024.0\n",
      "3       3024.0\n",
      "4       3024.0\n",
      "         ...  \n",
      "2591    3024.0\n",
      "2592    3024.0\n",
      "2593     280.0\n",
      "2594    1536.0\n",
      "2595    1536.0\n",
      "Name: Package Volume, Length: 2596, dtype: float64\n"
     ]
    }
   ],
   "source": [
    "#Finding the volume of each package \n",
    "df['Package Volume'] = df['Package Height'] * df['Package Length']* df['Package Width']\n",
    "print(df['Package Volume'])"
   ]
  },
  {
   "cell_type": "code",
   "execution_count": 86,
   "metadata": {},
   "outputs": [
    {
     "name": "stdout",
     "output_type": "stream",
     "text": [
      "     Ship State  Order Total  Amount Paid\n",
      "0           NaN          NaN          NaN\n",
      "1            GA       158.54       128.74\n",
      "2            NC         8.34       127.54\n",
      "3            OK        10.63       132.21\n",
      "4            CA       159.43       129.63\n",
      "...         ...          ...          ...\n",
      "2591         CA         9.24       128.44\n",
      "2592         WI       155.56       125.76\n",
      "2593         IL        94.87        77.07\n",
      "2594         NC        51.35        51.35\n",
      "2595         VA        39.02       152.22\n",
      "\n",
      "[2596 rows x 3 columns]\n"
     ]
    }
   ],
   "source": [
    "print(df[['Ship State','Order Total','Amount Paid']])"
   ]
  },
  {
   "cell_type": "code",
   "execution_count": 87,
   "metadata": {},
   "outputs": [
    {
     "name": "stdout",
     "output_type": "stream",
     "text": [
      "99.00274759152217\n",
      "103.57469364161851\n"
     ]
    }
   ],
   "source": [
    "print(df['Order Total'].mean())\n",
    "print(df['Amount Paid'].mean())"
   ]
  },
  {
   "cell_type": "code",
   "execution_count": 88,
   "metadata": {},
   "outputs": [
    {
     "name": "stdout",
     "output_type": "stream",
     "text": [
      "['GA', 'CA', 'FL', 'PA', 'FL', 'NC', 'NJ', 'NJ', 'FL', 'CA', 'NV', 'NJ', 'IL', 'WI', 'SC', 'PA', 'OK', 'AL', 'CO', 'IN', 'OH', 'SC', 'SC', 'NC', 'AL', 'AZ', 'PA', 'CT', 'NJ', 'FL', 'CA', 'CA', 'CA', 'CA', 'FL', 'ID', 'FL', 'CO', 'CA', 'CA', 'IL', 'IL', 'WA', 'OR', 'FL', 'OH', 'NJ', 'OR', 'MT', 'FL', 'PA', 'MA', 'IL', 'MA', 'CA', 'IL', 'MN', 'NY', 'MO', 'NJ', 'OH', 'NJ', 'MD', 'TX', 'FL', 'ID', 'MI', 'AL', 'TX', 'NY', 'AZ', 'GA', 'FL', 'PA', 'WA', 'IL', 'CA', 'CA', 'CA', 'CA', 'TX', 'FL', 'FL', 'CT', 'AZ', 'IL', 'NJ', 'FL', 'NH', 'FL', 'CA', 'OR', 'MI', 'FL', 'TX', 'MI', 'MA', 'MO', 'CA', 'PA', 'UT', 'MN', 'CA', 'OH', 'NC', 'PA', 'MD', 'ME', 'NY', 'LA', 'NC', 'AZ', 'CT', 'FL', 'TN', 'NJ', 'IL', 'ME', 'GA', 'WA', 'OR', 'NY', 'TX', 'AZ', 'CA', 'TN', 'IN', 'MA', 'TX', 'NJ', 'CA', 'RI', 'CA', 'AR', 'PA', 'CA', 'PA', 'SC', 'NV', 'TX', 'TX', 'MA', 'CA', 'MI', 'TX', 'IN', 'MN', 'NC', 'WV', 'CA', 'NJ', 'NJ', 'PA', 'OH', 'MA', 'MO', 'AR', 'WA', 'CA', 'MI', 'CA', 'AZ', 'MD', 'VT', 'WI', 'TX', 'CA', 'VT', 'NJ', 'IL', 'CA', 'OR', 'TN', 'CA', 'CA', 'MO', 'FL', 'CA', 'MA', 'TN', 'NJ', 'OH', 'OH', 'MO', 'MO', 'TX', 'IN', 'MA', 'MD', 'MN', 'NM', 'MA', 'TX', 'NM', 'NV', 'NY', 'MO', 'TX', 'PA', 'FL', 'SC', 'WA', 'MN', 'CT', 'CA', 'MS', 'TN', 'WA', 'KS', 'CT', 'SC', 'GA', 'VA', 'OR', 'CO', 'CA', 'TX', 'CA', 'MI', 'NY', 'CA', 'CA', 'VA', 'CA', 'NC', 'AL', 'TX', 'AL', 'TX', 'AZ', 'MI', 'TX', 'NC', 'TX', 'SC', 'WI', 'SD', 'SC', 'IA', 'CA', 'IL', 'GA', 'AL', 'MA', 'WI', 'ID', 'PA', 'NC', 'AR', 'MT', 'CA', 'NJ', 'OH', 'TX', 'GA', 'WA', 'TX', 'NY', 'CA', 'NC', 'OH', 'CA', 'CA', 'PA', 'FL', 'NV', 'MA', 'NY', 'NY', 'LA', 'GA', 'IA', 'NC', 'OK', 'NY', 'MD', 'TX', 'IL', 'OR', 'RI', 'LA', 'MN', 'FL', 'SD', 'FL', 'PA', 'SC', 'SC', 'TN', 'PA', 'MS', 'SC', 'MA', 'CO', 'SC', 'OR', 'AL', 'NJ', 'FL', 'TX', 'TX', 'CT', 'NV', 'OK', 'MS', 'CA', 'WA', 'PA', 'MN', 'MD', 'WA', 'AL', 'NY', 'OH', 'NY', 'MO', 'MA', 'TX', 'CA', 'FL', 'FL', 'TX', 'NJ', 'CT', 'NY', 'CO', 'MO', 'CO', 'MD', 'TX', 'PA', 'ME', 'OR', 'MO', 'FL', 'FL', 'CA', 'NM', 'WA', 'TX', 'OH', 'OH', 'NY', 'MN', 'CA', 'CO', 'MI', 'IL', 'GA', 'MI', 'CA', 'CO', 'OK', 'MN', 'CA', 'KY', 'NY', 'CA', 'IL', 'CA', 'FL', 'VA', 'NJ', 'AL', 'NY', 'TX', 'TX', 'MI', 'NJ', 'NC', 'IL', 'AZ', 'IN', 'MI', 'CT', 'CO', 'AR', 'CA', 'NY', 'FL', 'FL', 'NY', 'CA', 'WA', 'CA', 'AL', 'WA', 'TX', 'OH', 'MN', 'OK', 'GA', 'NV', 'TX', 'ID', 'CA', 'CA', 'TX', 'TX', 'AZ', 'LA', 'FL', 'PA', 'CA', 'MS', 'NY', 'IA', 'NV', 'GA', 'TN', 'TX', 'FL', 'NJ', nan, 'NY', 'NV', 'NY', 'FL', 'MI', 'SC', 'CA', 'CA', 'VA', 'TX', 'GA', 'FL', 'IL', 'IA', 'TX', 'CA', 'WI', 'WI', 'MI', 'IN', 'CT', 'NY', 'OR', 'VA', 'NH', 'GA', 'CA', 'MD', 'IL', 'CT', 'IA', 'SC', 'OK', 'AL', 'OR', 'NJ', 'FL', 'WA', 'AZ', 'SC', 'PA', 'FL', 'MA', 'FL', 'TX', 'PA', 'SC', 'NY', 'AL', 'MA', 'LA', 'IL', 'CA', 'MO', 'TX', 'NH', 'IN', 'FL', 'CA', 'AL', 'NY', 'NM', 'AR', 'TX', 'PA', 'CA', 'NJ', 'TX', 'TX', 'FL', 'CA', 'WA', 'CA', 'AZ', 'CA', 'CA', 'CA', 'NC', 'ID', 'WI', 'FL', 'CA', 'NY', 'VA', 'MS', 'CA', 'TX', 'AL', 'VA', 'IL', 'CA', 'CA', 'TX', 'UT', 'GA', 'RI', 'MS', 'MO', 'FL', 'VA', 'OK', 'CA', 'CA', 'FL', 'NJ', 'CA', 'MO', 'IN', 'MS', 'CA', 'IL', 'AZ', 'CA', 'OH', 'CA', 'DC', 'NV', 'MI', 'OH', 'CO', 'OR', 'WA', 'OH', 'NH', 'PA', 'TX', 'VA', 'IL', 'OH', 'NY', 'IL', 'CA', 'WA', 'TX', 'NY', 'HI', 'PA', 'CA', 'ID', 'IN', 'FL', 'GA', 'CA', 'TX', 'FL', 'FL', 'CA', 'OK', 'LA', 'TX', 'VA', nan, 'MD', 'CA', 'CA', 'FL', 'FL', 'SC', 'VT', 'CA', 'MI', 'CA', 'TX', 'IL', 'TN', 'NY', 'TX', 'WI', 'FL', 'ID', 'WV', 'NV', 'IN', 'WA', 'CA', 'NY', 'CA', 'OR', 'IL', 'IL', 'IA', 'WV', 'IL', 'CO', 'IN', 'AZ', 'MO', 'NV', 'TX', 'DC', 'WA', 'GA', 'CO', 'SC', 'LA', 'NJ', 'MS', 'TX', 'MA', 'WI', 'OH', 'NY', 'NJ', 'MD', 'CA', 'NC', 'IN', 'MA', 'NY', 'GA', 'IL', 'CA', 'OH', 'MI', 'MI', 'DE', 'PA', 'NE', 'CA', 'NY', 'MD', 'TX', 'CA', 'IL', 'NC', 'WV', 'CA', 'NC', 'IL', 'MA', 'VA', 'KS', 'IL', 'IL', 'OH', 'NJ', 'TN', 'NJ', 'LA', 'SC', 'FL', 'CA', 'AZ', 'TN', 'IN', 'AZ', 'FL', 'FL', 'MI', 'CA', 'MI', 'CA', 'FL', 'NC', 'KS', 'PA', 'TX', 'NC', 'SC', 'CA', 'HI', 'WA', 'MD', 'TN', 'WA', 'MN', 'WA', 'AZ', 'CA', 'LA', 'LA', 'CA', 'NY', 'CA', 'CA', 'NJ', 'CA', 'PA', 'FL', 'TX', 'NJ', 'MN', 'CA', 'OK', 'TX', 'LA', 'IL', 'CA', 'WI', 'CA', 'TX', 'AZ', 'WA', 'TN', 'VA', 'CA', 'MD', 'FL', 'IL', 'WA', 'MS', 'CO', 'KS', 'MT', 'IL', 'VT', 'MA', 'MI', 'CA', 'OH', 'MD', 'CA', 'CA', 'MN', 'IA', 'MO', 'ID', 'MN', 'AL', 'CO', 'PA', 'CO', 'FL', 'FL', 'MO', 'VA', 'WI', 'OH', 'WA', 'CA', 'KS', 'FL', 'FL', 'NJ', 'UT', 'MI', 'FL', 'LA', 'FL', 'CA', 'IL', 'CA', 'CA', 'TX', 'AZ', 'MA', 'CA', 'IL', 'NC', 'CO', 'KS', 'CA', 'UT', 'ME', 'OH', 'MA', 'GA', 'CA', 'CA', 'TX', 'IL', 'FL', 'SC', 'NY', 'GA', 'AZ', 'OH', 'MT', 'OR', 'TX', 'CA', 'NC', 'CA', 'CA', 'GA', 'NC', 'NM', 'VA', 'NJ', 'KY', 'ME', 'WA', 'CA', 'IN', 'WI', 'KY', 'NM', 'LA', 'WA', 'CA', 'AZ', 'UT', 'WA', 'CO', 'GA', 'NJ', 'TX', 'NJ', 'QC', 'CA', 'TX', 'WA', 'FL', 'NC', 'CA', 'SC', 'IN', 'IL', 'NY', 'TX', 'FL', 'AZ', 'OR', 'MT', 'WA', 'TX', 'IN', 'TX', 'NC', 'FL', 'FL', 'NJ', 'CO', 'CO', 'CO', 'MN', 'VA', 'CA', 'CA', 'WI', 'CA', 'GA', 'MN', 'NC', 'NE', 'FL', 'NC', 'TX', 'IL', 'NJ', 'CT', 'CA', 'FL', 'PA', 'MN', 'AL', 'TX', 'VT', 'WA', 'NH', 'TN', 'IL', 'PA', 'MI', 'VA', 'NY', 'NC', 'LA', 'CA', 'MS', 'FL', 'OK', 'PA', 'OH', 'OR', 'OH', 'FL', 'PA', 'KS', 'MI', 'NY', 'NY', 'PA', 'MI', 'FL', 'AL', 'MD', 'IL', 'CO', 'OH', 'NY', 'NC', 'IN', 'NJ', 'FL', 'TX', 'CA', 'OK', 'VA', 'ME', 'AZ', 'FL', 'AR', 'PA', 'FL', 'TX', 'TX', 'PA', 'CA', 'PA', 'AZ', 'OK', 'CA', 'NM', 'AZ', 'MD', 'CA', 'CO', 'NC', 'OR', 'FL', 'CA', 'RI', 'TN', 'WI', 'OR', 'MA', 'GA', 'TX', 'MA', 'OR', 'MD', 'MN', 'TX', 'TX', 'NH', 'CA', 'CT', 'VA', 'FL', 'TX', 'OK', 'TX', 'CA', 'CA', 'NM', 'CA', 'CA', 'OH', 'MA', 'MN', 'CA', 'MI', 'MI', 'SC', 'NV', 'AZ', 'TX', 'IN', 'UT', 'WI', 'FL', 'CA', 'OH', 'WV', 'NV', 'FL', 'FL', 'OK', 'NC', 'MI', 'IA', 'NC', 'MN', 'PA', 'KY', 'UT', 'FL', 'MT', 'CA', 'NY', 'UT', 'NY', 'WA', 'MI', 'CA', 'NV', 'MN', 'LA', 'AK', 'GA', 'OH', 'NC', 'VA', 'NM', 'CA', 'NM', 'WI', 'NM', 'NM', 'DE', 'CA', 'OH', 'TX', 'FL', 'CA', 'OH', 'IL', 'NC', 'FL', 'TX', 'MS', 'NC', 'MO', 'NJ', 'TX', 'CO', 'VA', 'FL', 'MI', 'CT', 'TN', 'VA', 'CA', 'NY', 'NM', 'MN', 'KS', 'IA', 'TN', 'FL', 'NY', 'FL', 'TX', 'LA', 'TX', 'TN', 'LA', 'TX', 'WV', 'AL', 'NY', 'WA', 'TX', 'VA', 'QC', 'GA', 'PA', 'NY', 'NY', 'TX', 'TN', 'MD', 'AZ', 'TX', 'AL', 'ND', 'NC', 'FL', 'TN', 'IN', 'CA', 'SC', 'CA', 'MI', 'OR', 'TX', 'NC', 'NJ', 'DC', 'FL', 'IL', 'TX', 'NY', 'VA', 'NC', 'NJ', 'NJ', 'TX', 'MS', 'TX', 'AL', 'WI', 'TX', 'CA', 'CA', 'NY', 'MO', 'MN', 'VA', 'CA', 'IA', 'KY', 'WA', 'MN', 'CA', 'AZ', 'OR', 'TN', 'MD', 'CA', 'NY', 'WA', 'ME', 'MI', 'NH', 'NE', 'AZ', 'IL', 'NJ', 'CT', 'MS', 'IL', 'NY', 'NJ', 'OH', 'NY', 'MI', 'CA', 'FL', 'LA', 'NJ', 'IL', 'NY', 'CO', 'IL', 'OR', 'MS', 'NY', 'NC', 'NV', 'CA', 'IL', 'GA', 'NJ', 'TX', 'CA', 'IL', 'CA', 'FL', 'KS', 'FL', 'WI', 'TX', 'MA', 'VA', 'TX', 'CO', 'VA', 'VA', 'GA', 'NJ', 'CA', 'MA', 'KY', 'MA', 'FL', 'CA', 'CA', 'NJ', 'TX', 'PA', 'VT', 'FL', 'QC', 'AZ', 'TX', 'MD', 'CA', 'OK', 'GA', 'IL', 'CA', 'TX', 'AL', 'CA', 'WV', 'WA', 'AK', 'WI', 'MN', 'FL', 'MI', 'CO', 'CA', 'TX', 'AZ', 'VA', 'KS', 'FL', 'CA', 'CA', 'PA', 'NY', 'HI', 'FL', 'MA', 'MO', 'SC', 'CA', 'MD', 'TX', 'NY', 'FL', 'OH', 'MI', 'FL', 'CA', 'TX', 'TX', 'NJ', 'AZ', 'NJ', 'GA', 'NY', 'WA', 'NY', 'IL', 'NY', 'OR', 'NY', 'MO', 'FL', 'FL', 'VA', 'CA', 'CT', 'CA', 'OR', 'CA', 'TX', 'ID', 'CA', 'FL', 'MD', 'MO', 'CO', 'FL', 'PA', 'CA', 'GA', 'OR', 'OR', 'NC', 'MS', 'MA', 'NJ', 'TX', 'SC', 'NM', 'NJ', 'NY', 'OK', 'CA', 'TX', 'IL', 'NE', 'TX', 'CT', 'VA', 'IL', 'SC', 'MO', 'GA', 'FL', 'IL', 'NY', 'PA', 'LA', 'FL', 'NV', 'NJ', 'TX', 'OK', 'CA', 'GA', 'NM', 'VA', 'NY', 'CA', 'NV', 'VA', 'MD', 'GA', 'IL', 'CO', 'CO', 'CA', 'IL', 'IL', 'PA', 'TX', 'NY', 'KY', 'PA', 'TN', 'MS', 'NC', 'FL', 'FL', 'AZ', 'NY', 'CA', 'NC', 'IN', 'SC', 'WA', 'OH', 'AZ', 'CO', 'MT', 'CA', 'IL', 'PA', 'CT', 'MT', 'IN', 'OH', 'OH', 'CA', 'MD', 'MD', 'CA', 'MS', 'PA', 'TX', 'TX', 'TX', 'CO', 'OR', 'MO', 'TN', 'NY', 'AZ', 'TX', 'CA', 'NC', 'CA', 'TX', 'AL', 'CT', 'FL', 'TX', 'CA', 'NH', 'AR', 'GA', 'OH', 'PA', 'TX', 'CA', 'CO', 'AZ', 'TX', 'CA', 'TX', 'OH', 'OH', 'CA', 'AZ', 'DE', 'VA', 'TX', 'NC', 'AZ', 'MO', 'CA', 'CA', 'WA', 'WA', 'OR', 'NJ', 'MA', 'NJ', 'IN', 'WA', 'FL', 'IL', 'TN', 'NH', 'AL', 'DE', 'CA', 'AR', 'IA', 'ID', 'NM', 'OH', 'FL', 'NY', 'NC', 'TX', 'IL', 'NY', 'TX', 'NY', 'NJ', 'MI', 'GA', 'WA', 'NC', 'GA', 'IN', 'GA', 'SC', 'ID', 'TX', 'CA', 'RI', 'CA', 'CA', 'CA', 'IL', 'MA', 'MD', 'PA', 'NH', 'VA', 'FL', 'FL', 'KS', 'FL', 'MI', 'TN', 'VA', 'MT', 'IL', 'PA', 'AL', 'FL', 'UT', 'KS', 'OK', 'CA', 'CA', 'MI', 'GA', 'KS', 'AR', 'OH', 'TX', 'AR', 'FL', 'AZ', 'CA', 'AZ', 'VA', 'FL', 'NE', 'GA', 'FL', 'VA', 'CO', 'PA', 'WA', 'WA', 'TX', 'TX', 'MA', 'WA', 'NJ', 'IL', 'CT', 'CA', 'NY', 'CT', 'MO', 'TX', 'FL', 'TX', 'TX', 'MT', 'IA', 'OR', 'TX', 'MN', 'NY', 'AL', 'CA', 'OR', 'AZ', 'VA', 'OK', 'CA', 'NJ', 'TX', 'OR', 'MD', 'NV', 'WA', 'NY', 'MD', 'CA', 'AL', 'AZ', 'KS', 'NY', 'FL', 'OR', 'CO', 'LA', 'OH', 'VA', 'AZ', 'CA', 'TX', 'OR', 'IL', 'CA', 'TN', 'FL', 'LA', 'ID', 'WA', 'FL', 'TX', 'IN', 'NY', 'AZ', 'CA', 'GA', 'MI', 'MA', 'TN', 'IL', 'ND', 'LA', 'MS', 'CA', 'PA', 'VA', 'IN', 'CA', 'WV', 'IN', 'CA', 'IL', 'NY', 'FL', 'WA', 'CO', 'VA', 'CA', 'IN', 'NV', 'NC', 'CT', 'NJ', 'CA', 'NY', 'IL', 'TN', 'PA', 'WA', 'CA', 'MI', 'ME', 'CA', 'OH', 'IL', 'OR', 'PA', 'PA', 'OR', 'TX', 'LA', 'TX', 'WA', 'CT', 'CA', 'CA', 'WI', 'IL', 'PA', 'IA', 'NC', 'CO', 'OK', 'GA', 'KY', 'ID', 'CA', 'ME', 'AL', 'WI', 'NY', 'NY', 'VA', 'TX', 'FL', 'CA', 'TN', 'NY', 'TX', 'TX', 'AR', 'CA', 'NC', 'MA', 'NC', 'CA', 'NY', 'CO', 'LA', 'NV', 'FL', 'TX', 'OH', 'CA', 'NC', 'DE', 'NC', 'TX', 'FL', 'IL', 'MD', 'IL', 'TN', 'NY', 'MO', 'FL', 'FL', 'IN', 'MI', 'TN', 'OK', 'CA', 'TX', 'KY', 'CA', 'FL', 'MD', 'OK', 'CA', 'IA', 'SC', 'TN', 'CO', 'KY', 'CA', 'FL', 'NJ', 'MI', 'CA', 'AZ', 'NY', 'CA', 'PA', 'CA', 'AL', 'ID', 'CA', 'FL', 'FL', 'FL', 'CA', 'CA', 'NY', 'ID', 'FL', 'VA', 'IL', 'AZ', 'FL', 'CA', 'TX', 'CA', 'OR', 'PA', 'TX', 'OR', 'CA', 'HI', 'RI', 'CO', 'OK', 'NJ', 'WA', 'MA', 'MO', 'FL', 'WI', 'NY', 'FL', 'WI', 'PA', 'IL', 'SC', 'VA', 'CA', 'WI', 'IL', 'PA', 'OH', 'OR', 'NC', 'WA', 'NC', 'OH', 'NC', 'IL', 'CA', 'AR', 'WI', 'MT', 'VA', 'AZ', 'UT', 'CA', 'SC', 'CA', 'OH', 'CA', 'RI', 'MA', 'TX', 'AL', 'NV', 'MA', 'CA', 'WA', 'FL', 'FL', 'AZ', 'NY', 'CA', 'FL', 'CA', 'MA', 'NV', 'TX', 'MO', 'FL', 'NJ', 'MA', 'WI', 'IL']\n"
     ]
    }
   ],
   "source": [
    "mylist = []\n",
    "for i in df.index:\n",
    "    if df.loc[i, 'Amount Paid'] < df.loc[i, 'Order Total']:\n",
    "        mylist.append(df.loc[i, 'Ship State'])\n",
    "print(mylist)\n"
   ]
  },
  {
   "cell_type": "code",
   "execution_count": 89,
   "metadata": {},
   "outputs": [
    {
     "name": "stdout",
     "output_type": "stream",
     "text": [
      "high amount paying ['GA' 'NC' 'CA' 'FL' 'IN' 'NV' 'NE' 'MD' 'SC' 'MA' 'NY' 'AL' 'TX' 'AZ'\n",
      " 'AR' 'MT' 'UT' 'MI' 'LA' 'RI' 'VA' 'ME' 'WV' 'ND' 'AB' 'MS' 'KS' 'KY'\n",
      " 'AK' 'DC' 'BC' 'ON']\n",
      "low amount paying ['OK' 'PA' 'NJ' 'CT' 'OR' 'IL' 'WI' 'MO' 'CO' 'OH' 'ID' 'WA' 'MN' 'NH'\n",
      " 'NM' 'TN' 'IA' 'VT' 'SD' 'DE' 'HI' 'QC']\n"
     ]
    }
   ],
   "source": [
    "\n",
    "state_avg_paid = df.groupby('Ship State')['Amount Paid'].transform('mean')\n",
    "state_avg_total = df.groupby('Ship State')['Order Total'].transform('mean')\n",
    "\n",
    "\n",
    "highest_state = df.loc[state_avg_paid > state_avg_total, 'Ship State'].unique()\n",
    "\n",
    "lowest_state = df.loc[state_avg_paid < state_avg_total, 'Ship State'].unique()\n",
    "\n",
    "print(\"high amount paying\", highest_state)\n",
    "print(\"low amount paying\", lowest_state)\n"
   ]
  },
  {
   "cell_type": "code",
   "execution_count": 90,
   "metadata": {},
   "outputs": [
    {
     "name": "stdout",
     "output_type": "stream",
     "text": [
      "2023-04-28 00:00:00\n",
      "2023-05-31 00:00:00\n"
     ]
    }
   ],
   "source": [
    "import pandas as pd\n",
    "\n",
    "# Assuming you have already imported pandas and assigned your DataFrame to the variable df\n",
    "\n",
    "df['Order Date'] = pd.to_datetime(df['Order Date'])  # Convert 'Order Date' column to datetime format\n",
    "\n",
    "print(df['Order Date'].min())\n",
    "print(df['Order Date'].max())\n"
   ]
  },
  {
   "cell_type": "code",
   "execution_count": 96,
   "metadata": {},
   "outputs": [
    {
     "name": "stderr",
     "output_type": "stream",
     "text": [
      "c:\\Users\\param\\anaconda3\\lib\\site-packages\\openpyxl\\styles\\stylesheet.py:226: UserWarning: Workbook contains no default style, apply openpyxl's default\n",
      "  warn(\"Workbook contains no default style, apply openpyxl's default\")\n"
     ]
    }
   ],
   "source": [
    "import pandas as pd \n",
    "url1 = r\"C:\\Users\\param\\Downloads\\638234264281445962.xlsx\"\n",
    "url2 = r\"C:\\Users\\param\\Downloads\\orders_export_1\\orders_export_1.csv\"\n",
    "df1 = pd.read_excel(url1)\n",
    "df2 = pd.read_csv(url2)\n",
    "c\n",
    "print(master_df.head(5))\n",
    "\n"
   ]
  },
  {
   "cell_type": "code",
   "execution_count": 1,
   "metadata": {},
   "outputs": [
    {
     "ename": "NameError",
     "evalue": "name 'df1' is not defined",
     "output_type": "error",
     "traceback": [
      "\u001b[1;31m---------------------------------------------------------------------------\u001b[0m",
      "\u001b[1;31mNameError\u001b[0m                                 Traceback (most recent call last)",
      "Cell \u001b[1;32mIn[1], line 2\u001b[0m\n\u001b[0;32m      1\u001b[0m mylist \u001b[39m=\u001b[39m []\n\u001b[1;32m----> 2\u001b[0m \u001b[39mfor\u001b[39;00m i \u001b[39min\u001b[39;00m df1[\u001b[39m\"\u001b[39m\u001b[39mOrder Number\u001b[39m\u001b[39m\"\u001b[39m]:\n\u001b[0;32m      3\u001b[0m     \u001b[39mfor\u001b[39;00m j \u001b[39min\u001b[39;00m df2[\u001b[39m\"\u001b[39m\u001b[39mName\u001b[39m\u001b[39m\"\u001b[39m]:\n\u001b[0;32m      4\u001b[0m         \u001b[39mif\u001b[39;00m i \u001b[39m==\u001b[39m j :\n",
      "\u001b[1;31mNameError\u001b[0m: name 'df1' is not defined"
     ]
    }
   ],
   "source": [
    "mylist = []\n",
    "for i in df1[\"Order Number\"]:\n",
    "    for j in df2[\"Name\"]:\n",
    "        if i == j :\n",
    "\n",
    "            mylist.append(i)\n",
    "print(mylist)\n",
    "            \n",
    "print(master_df)"
   ]
  },
  {
   "cell_type": "code",
   "execution_count": null,
   "metadata": {},
   "outputs": [],
   "source": []
  }
 ],
 "metadata": {
  "kernelspec": {
   "display_name": "base",
   "language": "python",
   "name": "python3"
  },
  "language_info": {
   "codemirror_mode": {
    "name": "ipython",
    "version": 3
   },
   "file_extension": ".py",
   "mimetype": "text/x-python",
   "name": "python",
   "nbconvert_exporter": "python",
   "pygments_lexer": "ipython3",
   "version": "3.10.9"
  },
  "orig_nbformat": 4
 },
 "nbformat": 4,
 "nbformat_minor": 2
}
